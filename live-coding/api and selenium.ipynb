{
 "cells": [
  {
   "cell_type": "code",
   "execution_count": 9,
   "id": "8936059e-c1d4-4242-97bf-9f5bc70fc330",
   "metadata": {},
   "outputs": [
    {
     "name": "stderr",
     "output_type": "stream",
     "text": [
      "\n",
      "\n",
      "====== WebDriver manager ======\n",
      "Current google-chrome version is 99.0.4844\n",
      "Get LATEST chromedriver version for 99.0.4844 google-chrome\n",
      "Driver [C:\\Users\\ambro\\.wdm\\drivers\\chromedriver\\win32\\99.0.4844.51\\chromedriver.exe] found in cache\n",
      "C:\\Users\\ambro\\AppData\\Local\\Temp/ipykernel_13632/3723074634.py:8: DeprecationWarning: executable_path has been deprecated, please pass in a Service object\n",
      "  driver = webdriver.Chrome(ChromeDriverManager().install())\n"
     ]
    }
   ],
   "source": [
    "import requests as re\n",
    "from selenium import webdriver\n",
    "from webdriver_manager.chrome import ChromeDriverManager\n",
    "from selenium.webdriver.common.keys import Keys\n",
    "\n",
    "\n",
    "#Install Driver\n",
    "driver = webdriver.Chrome(ChromeDriverManager().install())"
   ]
  },
  {
   "cell_type": "code",
   "execution_count": 16,
   "id": "c588a172-9513-41c6-82a8-c4e0b12bd64e",
   "metadata": {},
   "outputs": [],
   "source": [
    "api_key = <APIKEY>\n",
    "class FoodApi():\n",
    "    def __init__(self):\n",
    "        self.base_url = \"https://api.spoonacular.com/recipes/complexSearch?apiKey={api_key}\"\n",
    "\n",
    "    def getRecipeByName(self, name):\n",
    "        res = re.get(self.base_url + f\"&titleMatch={name}\")\n",
    "        data = res.json()\n",
    "        recepy = data['results'][0]\n",
    "        recepy_ingredients = self.getRecipeIngedients(recepy)\n",
    "        max_ingredient = self.getMaxIngredient(recepy_ingredients)\n",
    "        five_related = self.seleniumScrapping(max_ingredient['name'])\n",
    "        return five_related\n",
    "    \n",
    "    def seleniumScrapping(self, ingredient):\n",
    "        driver.get('https://www.allrecipes.com/')        \n",
    "        e = driver.find_element_by_id(\"search-block\")\n",
    "        e.send_keys(ingredient)\n",
    "        e.send_keys(Keys.RETURN)\n",
    "        \n",
    "        card_title_elements = driver.find_elements_by_class_name('card__title')\n",
    "        recipes_names = []\n",
    "        for elements in card_title_elements[:5]:\n",
    "            recipes_names.append(elements.text)\n",
    "        return recipes_names\n",
    "    \n",
    "    def getMaxIngredient(self, data_ingredients):\n",
    "        print(data_ingredients)\n",
    "        max_cant = 0\n",
    "        max_ingredient = {}\n",
    "        for ingredient in data_ingredients['ingredients']:\n",
    "            if ingredient['amount']['metric']['value'] > max_cant:\n",
    "                max_cant = ingredient['amount']['metric']['value']\n",
    "                max_ingredient = ingredient\n",
    "        return max_ingredient\n",
    "            \n",
    "    def getRecipeIngedients(self, recepy):\n",
    "        ingredients_response = re.get(self.makeIngredientsUrl(recepy['id']))\n",
    "        data_ingerdients = ingredients_response.json()\n",
    "        return data_ingerdients\n",
    "    \n",
    "    def makeIngredientsUrl(self, _id):\n",
    "        return f'https://api.spoonacular.com/recipes/{_id}/ingredientWidget.json?apiKey={api_key}'"
   ]
  },
  {
   "cell_type": "code",
   "execution_count": 17,
   "id": "9779e25d-5210-4a77-8d5f-07dc650ebea0",
   "metadata": {},
   "outputs": [
    {
     "name": "stdout",
     "output_type": "stream",
     "text": [
      "{'ingredients': [{'name': 'sweet peppers', 'image': 'green-pepper.jpg', 'amount': {'metric': {'value': 2.0, 'unit': ''}, 'us': {'value': 2.0, 'unit': ''}}}, {'name': 'heirloom tomatoes', 'image': 'tomato.png', 'amount': {'metric': {'value': 3.0, 'unit': 'medium'}, 'us': {'value': 3.0, 'unit': 'medium'}}}, {'name': 'cucumber', 'image': 'cucumber.jpg', 'amount': {'metric': {'value': 1.0, 'unit': 'small'}, 'us': {'value': 1.0, 'unit': 'small'}}}, {'name': 'yellow onion', 'image': 'brown-onion.png', 'amount': {'metric': {'value': 0.5, 'unit': ''}, 'us': {'value': 0.5, 'unit': ''}}}, {'name': 'garlic', 'image': 'garlic.png', 'amount': {'metric': {'value': 4.0, 'unit': 'cloves'}, 'us': {'value': 4.0, 'unit': 'cloves'}}}, {'name': 'parsley', 'image': 'parsley.jpg', 'amount': {'metric': {'value': 60.0, 'unit': 'g'}, 'us': {'value': 1.0, 'unit': 'cup'}}}, {'name': 'red wine vinegar', 'image': 'red-wine-vinegar.jpg', 'amount': {'metric': {'value': 1.0, 'unit': 'serving'}, 'us': {'value': 1.0, 'unit': 'serving'}}}, {'name': 'olive oil', 'image': 'olive-oil.jpg', 'amount': {'metric': {'value': 54.0, 'unit': 'ml'}, 'us': {'value': 0.25, 'unit': 'cup'}}}, {'name': 'salt and pepper', 'image': 'salt-and-pepper.jpg', 'amount': {'metric': {'value': 1.0, 'unit': 'serving'}, 'us': {'value': 1.0, 'unit': 'serving'}}}]}\n"
     ]
    },
    {
     "name": "stderr",
     "output_type": "stream",
     "text": [
      "C:\\Users\\ambro\\AppData\\Local\\Temp/ipykernel_13632/4059137351.py:16: DeprecationWarning: find_element_by_* commands are deprecated. Please use find_element() instead\n",
      "  e = driver.find_element_by_id(\"search-block\")\n",
      "C:\\Users\\ambro\\AppData\\Local\\Temp/ipykernel_13632/4059137351.py:20: DeprecationWarning: find_elements_by_* commands are deprecated. Please use find_elements() instead\n",
      "  card_title_elements = driver.find_elements_by_class_name('card__title')\n"
     ]
    },
    {
     "data": {
      "text/plain": [
       "['Walnut and Parsley Pesto',\n",
       " 'Garlic and Parsley Seasoned Potatoes',\n",
       " 'Chicken with Garlic, Basil, and Parsley',\n",
       " 'Buttery New Potatoes with Leeks and Parsley',\n",
       " 'Skillet-Popped Lentils with Parsley']"
      ]
     },
     "execution_count": 17,
     "metadata": {},
     "output_type": "execute_result"
    }
   ],
   "source": [
    "foodApi = FoodApi()\n",
    "foodApi.getRecipeByName('gazpacho')"
   ]
  },
  {
   "cell_type": "code",
   "execution_count": null,
   "id": "0780a263-c44d-4233-92e3-ade3b83bcaf6",
   "metadata": {},
   "outputs": [],
   "source": []
  }
 ],
 "metadata": {
  "kernelspec": {
   "display_name": "Python 3 (ipykernel)",
   "language": "python",
   "name": "python3"
  },
  "language_info": {
   "codemirror_mode": {
    "name": "ipython",
    "version": 3
   },
   "file_extension": ".py",
   "mimetype": "text/x-python",
   "name": "python",
   "nbconvert_exporter": "python",
   "pygments_lexer": "ipython3",
   "version": "3.9.6"
  }
 },
 "nbformat": 4,
 "nbformat_minor": 5
}
