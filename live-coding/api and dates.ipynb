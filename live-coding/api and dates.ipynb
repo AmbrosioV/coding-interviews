{
 "cells": [
  {
   "cell_type": "code",
   "execution_count": 1,
   "id": "62234564",
   "metadata": {},
   "outputs": [],
   "source": [
    "import requests as re\n",
    "import datetime"
   ]
  },
  {
   "cell_type": "code",
   "execution_count": 2,
   "id": "7dec12f0",
   "metadata": {},
   "outputs": [],
   "source": [
    "wale_latitude = 39.763342\n",
    "wale_longitude = -0.638769\n",
    "\n",
    "wale_schedule_from = 6 # 6AM\n",
    "wale_schedule_to = 20 # 8PM"
   ]
  },
  {
   "cell_type": "code",
   "execution_count": 13,
   "id": "b6bbd730",
   "metadata": {},
   "outputs": [],
   "source": [
    "def requester(day):\n",
    "    current_day_url = f\"https://api.sunrise-sunset.org/json?lat=39.763342&lng=-0.638769&date=2022-12-{day+1}&formatted=0\"\n",
    "    result = re.get(current_day_url).json()['results']\n",
    "    \n",
    "    sunrise = result['sunrise']\n",
    "    sunset = result['sunset']\n",
    "    return sunrise, sunset"
   ]
  },
  {
   "cell_type": "code",
   "execution_count": 11,
   "id": "98156485",
   "metadata": {},
   "outputs": [],
   "source": [
    "total_december_battery_time = datetime.timedelta(0)\n",
    "for day in range(31):\n",
    "    current_day_url = f\"https://api.sunrise-sunset.org/json?lat=39.763342&lng=-0.638769&date=2022-12-{day+1}&formatted=0\"\n",
    "    result = re.get(current_day_url).json()['results']\n",
    "    \n",
    "    sunrise = result['sunrise']\n",
    "    sunset = result['sunset']\n",
    "    \n",
    "    sunrise_dt = datetime.datetime.strptime(sunrise[0:-6],  '%Y-%m-%dT%H:%M:%S')\n",
    "    walle_wake_up = datetime.datetime(sunrise_dt.year, sunrise_dt.month, sunrise_dt.day, wale_schedule_from, 0, 0)\n",
    "    operation_morning = sunrise_dt - walle_wake_up\n",
    "\n",
    "    sunset_dt = datetime.datetime.strptime(sunset[0:-6],  '%Y-%m-%dT%H:%M:%S')\n",
    "    walle_sleep = datetime.datetime(sunset_dt.year, sunset_dt.month, sunset_dt.day, wale_schedule_to, 0, 0)\n",
    "    operation_night = walle_sleep - sunset_dt\n",
    "\n",
    "    total_december_battery_time += operation_morning + operation_night"
   ]
  },
  {
   "cell_type": "code",
   "execution_count": 12,
   "id": "a6d1185d",
   "metadata": {},
   "outputs": [
    {
     "data": {
      "text/plain": [
       "datetime.timedelta(days=5, seconds=74519)"
      ]
     },
     "execution_count": 12,
     "metadata": {},
     "output_type": "execute_result"
    }
   ],
   "source": [
    "total_december_battery_time"
   ]
  },
  {
   "cell_type": "code",
   "execution_count": null,
   "id": "7f018bc8",
   "metadata": {},
   "outputs": [],
   "source": []
  }
 ],
 "metadata": {
  "kernelspec": {
   "display_name": "Python 3 (ipykernel)",
   "language": "python",
   "name": "python3"
  },
  "language_info": {
   "codemirror_mode": {
    "name": "ipython",
    "version": 3
   },
   "file_extension": ".py",
   "mimetype": "text/x-python",
   "name": "python",
   "nbconvert_exporter": "python",
   "pygments_lexer": "ipython3",
   "version": "3.9.6"
  }
 },
 "nbformat": 4,
 "nbformat_minor": 5
}
